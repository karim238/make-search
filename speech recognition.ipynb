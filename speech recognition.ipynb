{
 "cells": [
  {
   "cell_type": "code",
   "execution_count": 2,
   "id": "88d08c3d",
   "metadata": {},
   "outputs": [
    {
     "name": "stdout",
     "output_type": "stream",
     "text": [
      "music\n"
     ]
    },
    {
     "name": "stderr",
     "output_type": "stream",
     "text": [
      "\n",
      "\n",
      "====== WebDriver manager ======\n",
      "Current google-chrome version is 96.0.4664\n",
      "Get LATEST chromedriver version for 96.0.4664 google-chrome\n",
      "Driver [C:\\Users\\HP\\.wdm\\drivers\\chromedriver\\win32\\96.0.4664.45\\chromedriver.exe] found in cache\n",
      "<ipython-input-2-a99d8fa4a53a>:38: DeprecationWarning: executable_path has been deprecated, please pass in a Service object\n",
      "  driver=webdriver.Chrome(ChromeDriverManager().install())\n"
     ]
    }
   ],
   "source": [
    "import speech_recognition as sr\n",
    "import pyttsx3 as p\n",
    "from selenium import webdriver\n",
    "from webdriver_manager.chrome import ChromeDriverManager\n",
    "r=sr.Recognizer()\n",
    "engine=p.init()\n",
    "with sr.Microphone() as source:\n",
    "    audio=r.listen(source)\n",
    "    \n",
    "    try:\n",
    "        recognized=r.recognize_google(audio)\n",
    "        \n",
    "        if recognized=='play music':\n",
    "            engine.say(\"i will play a good music for you\")\n",
    "            engine.runAndWait()\n",
    "            driver=webdriver.Chrome(ChromeDriverManager().install())\n",
    "            driver.get('https://www.youtube.com/watch?v=ZEcqHA7dbwM')\n",
    "        \n",
    "        \n",
    "        elif recognized=='how are you':\n",
    "            engine.say('iam fine ')\n",
    "            engine.runAndWait()\n",
    "        \n",
    "        \n",
    "        \n",
    "        else:\n",
    "            print(recognized)\n",
    "            engine.say(f'i will search for{recognized}')\n",
    "            engine.runAndWait()\n",
    "            driver=webdriver.Chrome(ChromeDriverManager().install())\n",
    "            driver.get('https://www.google.com/search?q='+recognized)\n",
    "    except sr.UnknownValueError:\n",
    "        engine.say(\" i didnot hear well\")\n",
    "        engine.runAndWait()\n",
    "        \n",
    "\n",
    "\n",
    "\n"
   ]
  },
  {
   "cell_type": "code",
   "execution_count": 3,
   "id": "337e4bfb",
   "metadata": {},
   "outputs": [
    {
     "name": "stdout",
     "output_type": "stream",
     "text": [
      "enter اسماء الله الحسني\n"
     ]
    },
    {
     "name": "stderr",
     "output_type": "stream",
     "text": [
      "\n",
      "\n",
      "====== WebDriver manager ======\n",
      "Current google-chrome version is 96.0.4664\n",
      "Get LATEST chromedriver version for 96.0.4664 google-chrome\n",
      "Driver [C:\\Users\\HP\\.wdm\\drivers\\chromedriver\\win32\\96.0.4664.45\\chromedriver.exe] found in cache\n",
      "<ipython-input-3-55e640867b95>:4: DeprecationWarning: executable_path has been deprecated, please pass in a Service object\n",
      "  driver=webdriver.Chrome(ChromeDriverManager().install())\n"
     ]
    }
   ],
   "source": [
    "from selenium import webdriver\n",
    "from webdriver_manager.chrome import ChromeDriverManager\n",
    "search=input('enter ')\n",
    "driver=webdriver.Chrome(ChromeDriverManager().install())\n",
    "driver.get('https://www.google.com/search?q='+search)\n"
   ]
  },
  {
   "cell_type": "code",
   "execution_count": 17,
   "id": "4ca8251d",
   "metadata": {},
   "outputs": [
    {
     "name": "stdout",
     "output_type": "stream",
     "text": [
      "enter loop in java\n"
     ]
    },
    {
     "name": "stderr",
     "output_type": "stream",
     "text": [
      "\n",
      "\n",
      "====== WebDriver manager ======\n",
      "Current google-chrome version is 96.0.4664\n",
      "Get LATEST chromedriver version for 96.0.4664 google-chrome\n",
      "Driver [C:\\Users\\HP\\.wdm\\drivers\\chromedriver\\win32\\96.0.4664.45\\chromedriver.exe] found in cache\n",
      "<ipython-input-17-5a3e1646a997>:58: DeprecationWarning: executable_path has been deprecated, please pass in a Service object\n",
      "  driver=webdriver.Chrome(ChromeDriverManager().install())\n"
     ]
    }
   ],
   "source": [
    "from tkinter import *\n",
    "import speech_recognition as sr\n",
    "import pyttsx3 as p\n",
    "from selenium import webdriver\n",
    "from webdriver_manager.chrome import ChromeDriverManager\n",
    "import time\n",
    "root=Tk()\n",
    "root.title(\"filter\")\n",
    "root.geometry(\"400x400\")\n",
    "# img = PhotoImage(file=\"C:\\\\Users\\HP\\Pictures\\back ground.jpg\")\n",
    "# label2=Label(root,image=bg)\n",
    "# label2.place_configure(x=0,y=0,relwidth=1,relheight=1)\n",
    "# cv2.waitKey(0)\n",
    "\n",
    "def speak():\n",
    "    r=sr.Recognizer()\n",
    "    engine=p.init()\n",
    "    with sr.Microphone() as source:\n",
    "        audio=r.listen(source)\n",
    "    \n",
    "        try:\n",
    "            recognized=r.recognize_google(audio)\n",
    "        \n",
    "            if recognized=='play music':\n",
    "                engine.say(\"i will play a good music for you\")\n",
    "                engine.runAndWait()\n",
    "                driver=webdriver.Chrome(ChromeDriverManager().install())\n",
    "                driver.get('https://www.youtube.com/watch?v=ZEcqHA7dbwM')\n",
    "                time.sleep(10)\n",
    "                \n",
    "            elif recognized=='play':\n",
    "                driver=webdriver.Chrome(ChromeDriverManager().install())\n",
    "                driver.get('https://www.youtube.com/watch?v=4_LN0hznp-A')\n",
    "                time.sleep(10)\n",
    "            elif recognized == 'name':\n",
    "                driver=webdriver.Chrome(ChromeDriverManager().install())\n",
    "                driver.get('https://www.youtube.com/watch?v=CwpP22CrSOQ')\n",
    "                time.sleep(10)\n",
    "            elif recognized=='how are you':\n",
    "                engine.say('iam fine ')\n",
    "                engine.runAndWait()\n",
    "            elif recognized=='I am sad':\n",
    "                engine.say('iam sorry to hear that?? listen this and you will change your mind')\n",
    "                engine.runAndWait()\n",
    "                driver=webdriver.Chrome(ChromeDriverManager().install())\n",
    "                driver.get('https://www.youtube.com/watch?v=-NXONiOtQYE')\n",
    "                time.sleep(10)  \n",
    "                 \n",
    "            else:\n",
    "                print(recognized)\n",
    "                driver=webdriver.Chrome(ChromeDriverManager().install())\n",
    "                driver.get('https://www.google.com/search?q='+recognized)\n",
    "        except sr.UnknownValueError:\n",
    "            engine.say(\" i didnot hear well\")\n",
    "            engine.runAndWait()\n",
    "\n",
    "\n",
    "s = Button (root,text='speak',command=speak).grid(row=100,column=1)\n",
    "w = Button(root,text='write',command=).grid(row=200,column=350)\n",
    "root.mainloop()"
   ]
  },
  {
   "cell_type": "code",
   "execution_count": 1,
   "id": "acf6fbf4",
   "metadata": {},
   "outputs": [
    {
     "data": {
      "text/plain": [
       "-1"
      ]
     },
     "execution_count": 1,
     "metadata": {},
     "output_type": "execute_result"
    }
   ],
   "source": [
    "import cv2\n",
    "import matplotlib.pyplot as plt\n",
    "img=cv2.imread(r'C:\\\\Users\\HP\\white house.jfif')\n",
    "cv2.imshow('image',img)\n",
    "cv2.waitKey(0)"
   ]
  },
  {
   "cell_type": "code",
   "execution_count": 2,
   "id": "3492ac56",
   "metadata": {},
   "outputs": [],
   "source": []
  },
  {
   "cell_type": "code",
   "execution_count": null,
   "id": "839ad0c6",
   "metadata": {},
   "outputs": [],
   "source": []
  }
 ],
 "metadata": {
  "kernelspec": {
   "display_name": "Python 3",
   "language": "python",
   "name": "python3"
  },
  "language_info": {
   "codemirror_mode": {
    "name": "ipython",
    "version": 3
   },
   "file_extension": ".py",
   "mimetype": "text/x-python",
   "name": "python",
   "nbconvert_exporter": "python",
   "pygments_lexer": "ipython3",
   "version": "3.8.8"
  }
 },
 "nbformat": 4,
 "nbformat_minor": 5
}
